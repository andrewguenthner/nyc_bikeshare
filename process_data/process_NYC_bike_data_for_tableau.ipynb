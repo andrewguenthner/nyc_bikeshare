{
 "cells": [
  {
   "cell_type": "markdown",
   "metadata": {},
   "source": [
    "## Trip Data Processing"
   ]
  },
  {
   "cell_type": "markdown",
   "metadata": {},
   "source": [
    "### Purpose\n",
    "\n",
    "* Create datasets for Tableau visualization from raw trip data files.\n",
    "\n",
    "### Rationale\n",
    "\n",
    "* Monthly raw trip data files are quite large, and two files are needed for year-over-year comparisons.  Having Tableau use the files directly will slow down performance.  Pre-processed summary files will still provide useful data to Tableau, but in a much more compact format."
   ]
  },
  {
   "cell_type": "markdown",
   "metadata": {},
   "source": [
    "### Requirements\n",
    "\n",
    "* Pandas (0.24.2)\n",
    "* Numpy (0.16.4)\n",
    "\n",
    "### Input / Output\n",
    "\n",
    "* Input files named according to `{yyyy}{mm}-citibike-tripdata.csv` where yyyy is the current year, and mm is the month of interest.  The system will look for two files, one with year yyyy, and another with year yyyy - 1.\n",
    "\n",
    "* Output file named `{yyyy}{mm}-citibike-hourly-summary.csv`"
   ]
  },
  {
   "cell_type": "markdown",
   "metadata": {},
   "source": [
    "### <span style=\"color:blue\">Required User Input</span>"
   ]
  },
  {
   "cell_type": "code",
   "execution_count": 4,
   "metadata": {},
   "outputs": [
    {
     "name": "stdout",
     "output_type": "stream",
     "text": [
      "Please enter the two-digit month and four-digit year for analysis (e.g. 05-2019)go to hell\n",
      "Invalid entry.  Pleae try again.\n",
      "Please enter the two-digit month and four-digit year for analysis (e.g. 05-2019)05-2019\n"
     ]
    }
   ],
   "source": [
    "valid = False\n",
    "attempts = 0  # Tracked to avoid infinite loops\n",
    "while (not valid) and (attempts < 6):\n",
    "    attempts += 1\n",
    "    if attempts == 6:\n",
    "        print('Too many invalid attempts.  Exiting loop.  *This notebook will not process data*.')\n",
    "        break\n",
    "    try:\n",
    "        mmyyyy = input('Please enter the two-digit month and four-digit year for analysis (e.g. 05-2019)')\n",
    "        mm = int(mmyyyy[0:2])\n",
    "        yyyy = int(mmyyyy[-4:])\n",
    "        print('Thank you.')\n",
    "        valid = True\n",
    "    except ValueError:\n",
    "        print('Invalid entry.  Pleae try again.')"
   ]
  },
  {
   "cell_type": "markdown",
   "metadata": {},
   "source": [
    "### Set-Up / Import "
   ]
  },
  {
   "cell_type": "code",
   "execution_count": 18,
   "metadata": {},
   "outputs": [],
   "source": [
    "import pandas as pd\n",
    "import numpy as np\n",
    "import matplotlib as mpl\n",
    "%matplotlib inline"
   ]
  },
  {
   "cell_type": "code",
   "execution_count": 36,
   "metadata": {},
   "outputs": [],
   "source": [
    "# Compose import filenames\n",
    "trip_data_dir = '../data/trips/'\n",
    "if mm < 10:\n",
    "    month_str = '0' + str(mm)\n",
    "else:\n",
    "    month_str = str(mm)\n",
    "this_year_str = str(yyyy)\n",
    "last_year_str = str(yyyy - 1)\n",
    "this_year_filename = trip_data_dir + this_year_str + month_str + '-citibike-tripdata.csv'\n",
    "last_year_filename = trip_data_dir + last_year_str + month_str + '-citibike-tripdata.csv'\n",
    "# Get data\n",
    "this_yr_trips = pd.read_csv(this_year_filename, parse_dates = ['starttime','stoptime'])\n",
    "last_yr_trips = pd.read_csv(last_year_filename, parse_dates = ['starttime', 'stoptime'])"
   ]
  },
  {
   "cell_type": "markdown",
   "metadata": {},
   "source": [
    "### Basic Data Checking"
   ]
  },
  {
   "cell_type": "code",
   "execution_count": 37,
   "metadata": {},
   "outputs": [
    {
     "data": {
      "text/html": [
       "<div>\n",
       "<style scoped>\n",
       "    .dataframe tbody tr th:only-of-type {\n",
       "        vertical-align: middle;\n",
       "    }\n",
       "\n",
       "    .dataframe tbody tr th {\n",
       "        vertical-align: top;\n",
       "    }\n",
       "\n",
       "    .dataframe thead th {\n",
       "        text-align: right;\n",
       "    }\n",
       "</style>\n",
       "<table border=\"1\" class=\"dataframe\">\n",
       "  <thead>\n",
       "    <tr style=\"text-align: right;\">\n",
       "      <th></th>\n",
       "      <th>tripduration</th>\n",
       "      <th>starttime</th>\n",
       "      <th>stoptime</th>\n",
       "      <th>start station id</th>\n",
       "      <th>start station name</th>\n",
       "      <th>start station latitude</th>\n",
       "      <th>start station longitude</th>\n",
       "      <th>end station id</th>\n",
       "      <th>end station name</th>\n",
       "      <th>end station latitude</th>\n",
       "      <th>end station longitude</th>\n",
       "      <th>bikeid</th>\n",
       "      <th>usertype</th>\n",
       "      <th>birth year</th>\n",
       "      <th>gender</th>\n",
       "    </tr>\n",
       "  </thead>\n",
       "  <tbody>\n",
       "    <tr>\n",
       "      <th>0</th>\n",
       "      <td>139</td>\n",
       "      <td>2019-05-01 00:00:01.901</td>\n",
       "      <td>2019-05-01 00:02:21.517</td>\n",
       "      <td>447</td>\n",
       "      <td>8 Ave &amp; W 52 St</td>\n",
       "      <td>40.763707</td>\n",
       "      <td>-73.985162</td>\n",
       "      <td>423</td>\n",
       "      <td>W 54 St &amp; 9 Ave</td>\n",
       "      <td>40.765849</td>\n",
       "      <td>-73.986905</td>\n",
       "      <td>31170</td>\n",
       "      <td>Subscriber</td>\n",
       "      <td>1983</td>\n",
       "      <td>1</td>\n",
       "    </tr>\n",
       "    <tr>\n",
       "      <th>1</th>\n",
       "      <td>754</td>\n",
       "      <td>2019-05-01 00:00:03.021</td>\n",
       "      <td>2019-05-01 00:12:37.692</td>\n",
       "      <td>3258</td>\n",
       "      <td>W 27 St &amp; 10 Ave</td>\n",
       "      <td>40.750182</td>\n",
       "      <td>-74.002184</td>\n",
       "      <td>3255</td>\n",
       "      <td>8 Ave &amp; W 31 St</td>\n",
       "      <td>40.750585</td>\n",
       "      <td>-73.994685</td>\n",
       "      <td>25560</td>\n",
       "      <td>Customer</td>\n",
       "      <td>1969</td>\n",
       "      <td>0</td>\n",
       "    </tr>\n",
       "    <tr>\n",
       "      <th>2</th>\n",
       "      <td>2308</td>\n",
       "      <td>2019-05-01 00:00:04.627</td>\n",
       "      <td>2019-05-01 00:38:33.171</td>\n",
       "      <td>3093</td>\n",
       "      <td>N 6 St &amp; Bedford Ave</td>\n",
       "      <td>40.717452</td>\n",
       "      <td>-73.958509</td>\n",
       "      <td>3676</td>\n",
       "      <td>Van Brunt St &amp; Van Dyke St</td>\n",
       "      <td>40.675833</td>\n",
       "      <td>-74.014726</td>\n",
       "      <td>33369</td>\n",
       "      <td>Subscriber</td>\n",
       "      <td>1978</td>\n",
       "      <td>1</td>\n",
       "    </tr>\n",
       "    <tr>\n",
       "      <th>3</th>\n",
       "      <td>143</td>\n",
       "      <td>2019-05-01 00:00:19.334</td>\n",
       "      <td>2019-05-01 00:02:42.520</td>\n",
       "      <td>3486</td>\n",
       "      <td>Schermerhorn St &amp; Bond St</td>\n",
       "      <td>40.688417</td>\n",
       "      <td>-73.984517</td>\n",
       "      <td>3412</td>\n",
       "      <td>Pacific St &amp; Nevins St</td>\n",
       "      <td>40.685376</td>\n",
       "      <td>-73.983021</td>\n",
       "      <td>32041</td>\n",
       "      <td>Subscriber</td>\n",
       "      <td>1997</td>\n",
       "      <td>1</td>\n",
       "    </tr>\n",
       "    <tr>\n",
       "      <th>4</th>\n",
       "      <td>138</td>\n",
       "      <td>2019-05-01 00:00:22.184</td>\n",
       "      <td>2019-05-01 00:02:40.648</td>\n",
       "      <td>388</td>\n",
       "      <td>W 26 St &amp; 10 Ave</td>\n",
       "      <td>40.749718</td>\n",
       "      <td>-74.002950</td>\n",
       "      <td>494</td>\n",
       "      <td>W 26 St &amp; 8 Ave</td>\n",
       "      <td>40.747348</td>\n",
       "      <td>-73.997236</td>\n",
       "      <td>35237</td>\n",
       "      <td>Subscriber</td>\n",
       "      <td>1967</td>\n",
       "      <td>1</td>\n",
       "    </tr>\n",
       "  </tbody>\n",
       "</table>\n",
       "</div>"
      ],
      "text/plain": [
       "   tripduration               starttime                stoptime  \\\n",
       "0           139 2019-05-01 00:00:01.901 2019-05-01 00:02:21.517   \n",
       "1           754 2019-05-01 00:00:03.021 2019-05-01 00:12:37.692   \n",
       "2          2308 2019-05-01 00:00:04.627 2019-05-01 00:38:33.171   \n",
       "3           143 2019-05-01 00:00:19.334 2019-05-01 00:02:42.520   \n",
       "4           138 2019-05-01 00:00:22.184 2019-05-01 00:02:40.648   \n",
       "\n",
       "   start station id         start station name  start station latitude  \\\n",
       "0               447            8 Ave & W 52 St               40.763707   \n",
       "1              3258           W 27 St & 10 Ave               40.750182   \n",
       "2              3093       N 6 St & Bedford Ave               40.717452   \n",
       "3              3486  Schermerhorn St & Bond St               40.688417   \n",
       "4               388           W 26 St & 10 Ave               40.749718   \n",
       "\n",
       "   start station longitude  end station id            end station name  \\\n",
       "0               -73.985162             423             W 54 St & 9 Ave   \n",
       "1               -74.002184            3255             8 Ave & W 31 St   \n",
       "2               -73.958509            3676  Van Brunt St & Van Dyke St   \n",
       "3               -73.984517            3412      Pacific St & Nevins St   \n",
       "4               -74.002950             494             W 26 St & 8 Ave   \n",
       "\n",
       "   end station latitude  end station longitude  bikeid    usertype  \\\n",
       "0             40.765849             -73.986905   31170  Subscriber   \n",
       "1             40.750585             -73.994685   25560    Customer   \n",
       "2             40.675833             -74.014726   33369  Subscriber   \n",
       "3             40.685376             -73.983021   32041  Subscriber   \n",
       "4             40.747348             -73.997236   35237  Subscriber   \n",
       "\n",
       "   birth year  gender  \n",
       "0        1983       1  \n",
       "1        1969       0  \n",
       "2        1978       1  \n",
       "3        1997       1  \n",
       "4        1967       1  "
      ]
     },
     "execution_count": 37,
     "metadata": {},
     "output_type": "execute_result"
    }
   ],
   "source": [
    "# Examine data\n",
    "this_yr_trips.head()"
   ]
  },
  {
   "cell_type": "code",
   "execution_count": 38,
   "metadata": {},
   "outputs": [
    {
     "data": {
      "text/html": [
       "<div>\n",
       "<style scoped>\n",
       "    .dataframe tbody tr th:only-of-type {\n",
       "        vertical-align: middle;\n",
       "    }\n",
       "\n",
       "    .dataframe tbody tr th {\n",
       "        vertical-align: top;\n",
       "    }\n",
       "\n",
       "    .dataframe thead th {\n",
       "        text-align: right;\n",
       "    }\n",
       "</style>\n",
       "<table border=\"1\" class=\"dataframe\">\n",
       "  <thead>\n",
       "    <tr style=\"text-align: right;\">\n",
       "      <th></th>\n",
       "      <th>tripduration</th>\n",
       "      <th>starttime</th>\n",
       "      <th>stoptime</th>\n",
       "      <th>start station id</th>\n",
       "      <th>start station name</th>\n",
       "      <th>start station latitude</th>\n",
       "      <th>start station longitude</th>\n",
       "      <th>end station id</th>\n",
       "      <th>end station name</th>\n",
       "      <th>end station latitude</th>\n",
       "      <th>end station longitude</th>\n",
       "      <th>bikeid</th>\n",
       "      <th>usertype</th>\n",
       "      <th>birth year</th>\n",
       "      <th>gender</th>\n",
       "    </tr>\n",
       "  </thead>\n",
       "  <tbody>\n",
       "    <tr>\n",
       "      <th>0</th>\n",
       "      <td>367</td>\n",
       "      <td>2018-05-01 05:06:16.584</td>\n",
       "      <td>2018-05-01 05:12:23.965</td>\n",
       "      <td>72</td>\n",
       "      <td>W 52 St &amp; 11 Ave</td>\n",
       "      <td>40.767272</td>\n",
       "      <td>-73.993929</td>\n",
       "      <td>514</td>\n",
       "      <td>12 Ave &amp; W 40 St</td>\n",
       "      <td>40.760875</td>\n",
       "      <td>-74.002777</td>\n",
       "      <td>30567</td>\n",
       "      <td>Subscriber</td>\n",
       "      <td>1965</td>\n",
       "      <td>1</td>\n",
       "    </tr>\n",
       "    <tr>\n",
       "      <th>1</th>\n",
       "      <td>1313</td>\n",
       "      <td>2018-05-01 06:25:49.425</td>\n",
       "      <td>2018-05-01 06:47:42.712</td>\n",
       "      <td>72</td>\n",
       "      <td>W 52 St &amp; 11 Ave</td>\n",
       "      <td>40.767272</td>\n",
       "      <td>-73.993929</td>\n",
       "      <td>426</td>\n",
       "      <td>West St &amp; Chambers St</td>\n",
       "      <td>40.717548</td>\n",
       "      <td>-74.013221</td>\n",
       "      <td>18965</td>\n",
       "      <td>Subscriber</td>\n",
       "      <td>1956</td>\n",
       "      <td>1</td>\n",
       "    </tr>\n",
       "    <tr>\n",
       "      <th>2</th>\n",
       "      <td>1798</td>\n",
       "      <td>2018-05-01 06:40:26.445</td>\n",
       "      <td>2018-05-01 07:10:25.179</td>\n",
       "      <td>72</td>\n",
       "      <td>W 52 St &amp; 11 Ave</td>\n",
       "      <td>40.767272</td>\n",
       "      <td>-73.993929</td>\n",
       "      <td>3435</td>\n",
       "      <td>Grand St &amp; Elizabeth St</td>\n",
       "      <td>40.718822</td>\n",
       "      <td>-73.995960</td>\n",
       "      <td>30241</td>\n",
       "      <td>Subscriber</td>\n",
       "      <td>1959</td>\n",
       "      <td>2</td>\n",
       "    </tr>\n",
       "    <tr>\n",
       "      <th>3</th>\n",
       "      <td>518</td>\n",
       "      <td>2018-05-01 07:06:02.973</td>\n",
       "      <td>2018-05-01 07:14:41.004</td>\n",
       "      <td>72</td>\n",
       "      <td>W 52 St &amp; 11 Ave</td>\n",
       "      <td>40.767272</td>\n",
       "      <td>-73.993929</td>\n",
       "      <td>477</td>\n",
       "      <td>W 41 St &amp; 8 Ave</td>\n",
       "      <td>40.756405</td>\n",
       "      <td>-73.990026</td>\n",
       "      <td>28985</td>\n",
       "      <td>Subscriber</td>\n",
       "      <td>1986</td>\n",
       "      <td>1</td>\n",
       "    </tr>\n",
       "    <tr>\n",
       "      <th>4</th>\n",
       "      <td>109</td>\n",
       "      <td>2018-05-01 07:26:32.345</td>\n",
       "      <td>2018-05-01 07:28:21.542</td>\n",
       "      <td>72</td>\n",
       "      <td>W 52 St &amp; 11 Ave</td>\n",
       "      <td>40.767272</td>\n",
       "      <td>-73.993929</td>\n",
       "      <td>530</td>\n",
       "      <td>11 Ave &amp; W 59 St</td>\n",
       "      <td>40.771522</td>\n",
       "      <td>-73.990541</td>\n",
       "      <td>14556</td>\n",
       "      <td>Subscriber</td>\n",
       "      <td>1991</td>\n",
       "      <td>1</td>\n",
       "    </tr>\n",
       "  </tbody>\n",
       "</table>\n",
       "</div>"
      ],
      "text/plain": [
       "   tripduration               starttime                stoptime  \\\n",
       "0           367 2018-05-01 05:06:16.584 2018-05-01 05:12:23.965   \n",
       "1          1313 2018-05-01 06:25:49.425 2018-05-01 06:47:42.712   \n",
       "2          1798 2018-05-01 06:40:26.445 2018-05-01 07:10:25.179   \n",
       "3           518 2018-05-01 07:06:02.973 2018-05-01 07:14:41.004   \n",
       "4           109 2018-05-01 07:26:32.345 2018-05-01 07:28:21.542   \n",
       "\n",
       "   start station id start station name  start station latitude  \\\n",
       "0                72   W 52 St & 11 Ave               40.767272   \n",
       "1                72   W 52 St & 11 Ave               40.767272   \n",
       "2                72   W 52 St & 11 Ave               40.767272   \n",
       "3                72   W 52 St & 11 Ave               40.767272   \n",
       "4                72   W 52 St & 11 Ave               40.767272   \n",
       "\n",
       "   start station longitude  end station id         end station name  \\\n",
       "0               -73.993929             514         12 Ave & W 40 St   \n",
       "1               -73.993929             426    West St & Chambers St   \n",
       "2               -73.993929            3435  Grand St & Elizabeth St   \n",
       "3               -73.993929             477          W 41 St & 8 Ave   \n",
       "4               -73.993929             530         11 Ave & W 59 St   \n",
       "\n",
       "   end station latitude  end station longitude  bikeid    usertype  \\\n",
       "0             40.760875             -74.002777   30567  Subscriber   \n",
       "1             40.717548             -74.013221   18965  Subscriber   \n",
       "2             40.718822             -73.995960   30241  Subscriber   \n",
       "3             40.756405             -73.990026   28985  Subscriber   \n",
       "4             40.771522             -73.990541   14556  Subscriber   \n",
       "\n",
       "   birth year  gender  \n",
       "0        1965       1  \n",
       "1        1956       1  \n",
       "2        1959       2  \n",
       "3        1986       1  \n",
       "4        1991       1  "
      ]
     },
     "execution_count": 38,
     "metadata": {},
     "output_type": "execute_result"
    }
   ],
   "source": [
    "last_yr_trips.head()"
   ]
  },
  {
   "cell_type": "code",
   "execution_count": 39,
   "metadata": {},
   "outputs": [
    {
     "name": "stdout",
     "output_type": "stream",
     "text": [
      "1924563 rows for 2019\n",
      "1824710 rows for 2018\n"
     ]
    }
   ],
   "source": [
    "# Check row counts\n",
    "print(str(len(this_yr_trips)) + ' rows for ' + this_year_str)\n",
    "print(str(len(last_yr_trips)) + ' rows for ' + last_year_str)"
   ]
  },
  {
   "cell_type": "code",
   "execution_count": 40,
   "metadata": {},
   "outputs": [
    {
     "data": {
      "text/plain": [
       "array([ True,  True,  True,  True,  True,  True,  True,  True,  True,\n",
       "        True,  True,  True,  True,  True,  True])"
      ]
     },
     "execution_count": 40,
     "metadata": {},
     "output_type": "execute_result"
    }
   ],
   "source": [
    "# Check that columns are the same \n",
    "this_yr_trips.columns == last_yr_trips.columns"
   ]
  },
  {
   "cell_type": "code",
   "execution_count": 41,
   "metadata": {},
   "outputs": [
    {
     "data": {
      "text/plain": [
       "Index(['tripduration', 'starttime', 'stoptime', 'start station id',\n",
       "       'start station name', 'start station latitude',\n",
       "       'start station longitude', 'end station id', 'end station name',\n",
       "       'end station latitude', 'end station longitude', 'bikeid', 'usertype',\n",
       "       'birth year', 'gender'],\n",
       "      dtype='object')"
      ]
     },
     "execution_count": 41,
     "metadata": {},
     "output_type": "execute_result"
    }
   ],
   "source": [
    "this_yr_trips.columns"
   ]
  },
  {
   "cell_type": "markdown",
   "metadata": {},
   "source": [
    "### Generate Hourly Station Data"
   ]
  },
  {
   "cell_type": "code",
   "execution_count": null,
   "metadata": {},
   "outputs": [],
   "source": [
    "def frac_subscribers(series):\n",
    "    \"\"\"Returns that fraction of DataFrame Series entries that are 'Subscriber', ignores na\"\"\"\n",
    "    num_subscribers = len(list(filter(lambda x: x == 'Subscriber', series)))\n",
    "    series_count = series.count()\n",
    "    return num_subscribers / series_count"
   ]
  },
  {
   "cell_type": "code",
   "execution_count": 29,
   "metadata": {},
   "outputs": [],
   "source": [
    "def frac_in_age_range(series, current_year = yyyy, lower_limit = 0, upper_limit = 120):\n",
    "    \"\"\"Returns fraction of data series that represents people between lower_limit (inclusive) \n",
    "    and upper_limit (exclusive) of age, given a DataFrame Series with birth years and the \n",
    "    current year.  Note that ages are not exact, but equal the difference in current_year and the\n",
    "    birth year.  Limits are converted to integers.\"\"\"\n",
    "    try:\n",
    "        numeric_series = series.astype('int').dropna()\n",
    "        lower_limit = int(lower_limit)\n",
    "        upper_limit = int(upper_limit)\n",
    "        num_in_range = len(list(filter(lambda x: ((current_year - x) >= lower_limit) and\n",
    "                                                ((current_year - x) < upper_limit), numeric_series)))\n",
    "        series_count = len(numeric_series)\n",
    "        return num_in_range / series_count\n",
    "    except ValueError:\n",
    "        return 0"
   ]
  },
  {
   "cell_type": "code",
   "execution_count": null,
   "metadata": {},
   "outputs": [],
   "source": [
    "def frac_male(series)\n",
    "    \"\"\"Returns fraction of data series that represents males, given a DataFrame series encoded\n",
    "    as 0 = unknown, 1 = male, 2 = female\"\"\"\n",
    "    num_male = len(list(filter(lambda x: x == 1, series)))\n",
    "    num_female = len(list(filter(lambda x: x == 2, series)))\n",
    "    return num_male / (num_male + num_female)"
   ]
  },
  {
   "cell_type": "code",
   "execution_count": 31,
   "metadata": {},
   "outputs": [],
   "source": [
    "# Build aggregation dictionary for use with groupby\n",
    "#  -- tripduration is very unevenly distributed (lots of long-length outliers, so use median\n",
    "# -- use custom functions for usertype, gender, and birth year \n",
    "# -- Note that yyyy should already be set to the current year\n",
    "agg_dict = {'tripduration':['median','count'], 'start station latitude':'first', \n",
    "            'start station longitude':'first','usertype':'frac_subscribers',\n",
    "            'gender':'frac_male','birth year' : [lambda x : frac_in_age_range(x, yyyy, 0, 25),\n",
    "                                                lambda x : frac_in_age_range(x, yyyy, 25, 35),\n",
    "                                                lambda x : frac_in_age_range(x, yyyy, 35, 45),\n",
    "                                                lambda x : frac_in_age_range(x, yyyy, 45, 55),\n",
    "                                                lambda x : frac_in_age_range(x, yyyy, 55, 199)]}"
   ]
  },
  {
   "cell_type": "code",
   "execution_count": 42,
   "metadata": {},
   "outputs": [
    {
     "data": {
      "text/plain": [
       "2019-05-31    83347\n",
       "2019-05-22    82007\n",
       "2019-05-21    79254\n",
       "2019-05-16    77878\n",
       "2019-05-08    76389\n",
       "2019-05-24    74857\n",
       "2019-05-20    74489\n",
       "2019-05-15    74307\n",
       "2019-05-18    73143\n",
       "2019-05-07    72824\n",
       "2019-05-17    72112\n",
       "2019-05-19    69920\n",
       "2019-05-06    69914\n",
       "2019-05-11    69788\n",
       "2019-05-02    68701\n",
       "2019-05-10    68039\n",
       "2019-05-09    66681\n",
       "2019-05-27    66595\n",
       "2019-05-03    62405\n",
       "2019-05-01    60897\n",
       "2019-05-25    59492\n",
       "2019-05-28    59432\n",
       "2019-05-23    56575\n",
       "2019-05-04    56023\n",
       "2019-05-29    55089\n",
       "2019-05-30    52481\n",
       "2019-05-26    49950\n",
       "2019-05-14    42780\n",
       "2019-05-13    22296\n",
       "2019-05-05    16169\n",
       "2019-05-12    10729\n",
       "Name: starttime, dtype: int64"
      ]
     },
     "execution_count": 42,
     "metadata": {},
     "output_type": "execute_result"
    }
   ],
   "source": [
    "this_yr_trips.starttime.dt.date.value_counts()"
   ]
  },
  {
   "cell_type": "code",
   "execution_count": null,
   "metadata": {},
   "outputs": [],
   "source": []
  },
  {
   "cell_type": "code",
   "execution_count": null,
   "metadata": {},
   "outputs": [],
   "source": []
  }
 ],
 "metadata": {
  "kernelspec": {
   "display_name": "Python 3",
   "language": "python",
   "name": "python3"
  },
  "language_info": {
   "codemirror_mode": {
    "name": "ipython",
    "version": 3
   },
   "file_extension": ".py",
   "mimetype": "text/x-python",
   "name": "python",
   "nbconvert_exporter": "python",
   "pygments_lexer": "ipython3",
   "version": "3.7.3"
  }
 },
 "nbformat": 4,
 "nbformat_minor": 2
}
